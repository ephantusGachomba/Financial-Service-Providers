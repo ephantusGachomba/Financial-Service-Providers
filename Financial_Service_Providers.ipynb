{
  "nbformat": 4,
  "nbformat_minor": 0,
  "metadata": {
    "colab": {
      "name": "Financial_Service_Providers.ipynb",
      "provenance": [],
      "collapsed_sections": [],
      "authorship_tag": "ABX9TyOzRIFZbBDlEnNvrUKBMc7G",
      "include_colab_link": true
    },
    "kernelspec": {
      "name": "python3",
      "display_name": "Python 3"
    },
    "language_info": {
      "name": "python"
    }
  },
  "cells": [
    {
      "cell_type": "markdown",
      "metadata": {
        "id": "view-in-github",
        "colab_type": "text"
      },
      "source": [
        "<a href=\"https://colab.research.google.com/github/ephantusGachomba/Financial-Service-Providers/blob/main/Financial_Service_Providers.ipynb\" target=\"_parent\"><img src=\"https://colab.research.google.com/assets/colab-badge.svg\" alt=\"Open In Colab\"/></a>"
      ]
    },
    {
      "cell_type": "markdown",
      "source": [
        "The Objective of this task was to track the financial Service Providers in Kenya.\n",
        "The task was further subdivided by the counties in which they provide"
      ],
      "metadata": {
        "id": "_jGsg5cbsMy_"
      }
    },
    {
      "cell_type": "markdown",
      "source": [
        "# Step 1  To perform Exploratory Data Analysis"
      ],
      "metadata": {
        "id": "HR1ODzPxshnK"
      }
    },
    {
      "cell_type": "code",
      "source": [
        "#Import libraries\n",
        "import pandas as pd\n",
        "import matplotlib.pyplot as plt\n",
        "import numpy as np\n",
        "import seaborn as sns\n",
        "%matplotlib inline\n",
        "\n",
        "!pip3 install geopandas\n",
        "import geopandas as gpd\n",
        "from shapely.geometry import Point, Polygon"
      ],
      "metadata": {
        "colab": {
          "base_uri": "https://localhost:8080/"
        },
        "id": "2npYgJYpvx1a",
        "outputId": "3864cdcd-1ccf-475b-9883-a230d3342e1a"
      },
      "execution_count": null,
      "outputs": [
        {
          "output_type": "stream",
          "name": "stdout",
          "text": [
            "Looking in indexes: https://pypi.org/simple, https://us-python.pkg.dev/colab-wheels/public/simple/\n",
            "Requirement already satisfied: geopandas in /usr/local/lib/python3.7/dist-packages (0.10.2)\n",
            "Requirement already satisfied: fiona>=1.8 in /usr/local/lib/python3.7/dist-packages (from geopandas) (1.8.21)\n",
            "Requirement already satisfied: pyproj>=2.2.0 in /usr/local/lib/python3.7/dist-packages (from geopandas) (3.2.1)\n",
            "Requirement already satisfied: shapely>=1.6 in /usr/local/lib/python3.7/dist-packages (from geopandas) (1.8.2)\n",
            "Requirement already satisfied: pandas>=0.25.0 in /usr/local/lib/python3.7/dist-packages (from geopandas) (1.3.5)\n",
            "Requirement already satisfied: attrs>=17 in /usr/local/lib/python3.7/dist-packages (from fiona>=1.8->geopandas) (21.4.0)\n",
            "Requirement already satisfied: cligj>=0.5 in /usr/local/lib/python3.7/dist-packages (from fiona>=1.8->geopandas) (0.7.2)\n",
            "Requirement already satisfied: click>=4.0 in /usr/local/lib/python3.7/dist-packages (from fiona>=1.8->geopandas) (7.1.2)\n",
            "Requirement already satisfied: setuptools in /usr/local/lib/python3.7/dist-packages (from fiona>=1.8->geopandas) (57.4.0)\n",
            "Requirement already satisfied: certifi in /usr/local/lib/python3.7/dist-packages (from fiona>=1.8->geopandas) (2022.5.18.1)\n",
            "Requirement already satisfied: munch in /usr/local/lib/python3.7/dist-packages (from fiona>=1.8->geopandas) (2.5.0)\n",
            "Requirement already satisfied: click-plugins>=1.0 in /usr/local/lib/python3.7/dist-packages (from fiona>=1.8->geopandas) (1.1.1)\n",
            "Requirement already satisfied: six>=1.7 in /usr/local/lib/python3.7/dist-packages (from fiona>=1.8->geopandas) (1.15.0)\n",
            "Requirement already satisfied: pytz>=2017.3 in /usr/local/lib/python3.7/dist-packages (from pandas>=0.25.0->geopandas) (2022.1)\n",
            "Requirement already satisfied: python-dateutil>=2.7.3 in /usr/local/lib/python3.7/dist-packages (from pandas>=0.25.0->geopandas) (2.8.2)\n",
            "Requirement already satisfied: numpy>=1.17.3 in /usr/local/lib/python3.7/dist-packages (from pandas>=0.25.0->geopandas) (1.21.6)\n"
          ]
        }
      ]
    },
    {
      "cell_type": "code",
      "execution_count": null,
      "metadata": {
        "id": "CvhUQu9dsAlF",
        "colab": {
          "base_uri": "https://localhost:8080/",
          "height": 320
        },
        "outputId": "ef1d5792-cffa-4bec-a162-8b9bf93f8326"
      },
      "outputs": [
        {
          "output_type": "execute_result",
          "data": {
            "text/plain": [
              "   Serial Number                      Form Name  GPS Latitude  GPS Longitude  \\\n",
              "0              1              PENSION PROVIDERS      -0.42204       36.95041   \n",
              "1              2  MOBILE MONEY SERVICE PROVIDER       0.05891       37.64377   \n",
              "2              3  MOBILE MONEY SERVICE PROVIDER      -4.06168       39.66910   \n",
              "3              4  MOBILE MONEY SERVICE PROVIDER      -1.21601       36.90345   \n",
              "4              5     INSURANCE SERVICE PROVIDER      -1.29497       36.79969   \n",
              "\n",
              "  Please select your Service Provider In what region is the outlet?  \\\n",
              "0                    Pension Provider                    Nyeri town   \n",
              "1       Mobile Money Service Provider                     Meru town   \n",
              "2       Mobile Money Service Provider                  Mombasa town   \n",
              "3       Mobile Money Service Provider                 Nairobi towns   \n",
              "4          Insurance Service Provider                 Nairobi towns   \n",
              "\n",
              "  What is the street address?  \n",
              "0                 Kimathi Way  \n",
              "1                    Makutano  \n",
              "2                    Port Way  \n",
              "3                    Kasarani  \n",
              "4             Argwings Kodhek  "
            ],
            "text/html": [
              "\n",
              "  <div id=\"df-d8747344-f93c-4251-9ea7-df1af3d92e9f\">\n",
              "    <div class=\"colab-df-container\">\n",
              "      <div>\n",
              "<style scoped>\n",
              "    .dataframe tbody tr th:only-of-type {\n",
              "        vertical-align: middle;\n",
              "    }\n",
              "\n",
              "    .dataframe tbody tr th {\n",
              "        vertical-align: top;\n",
              "    }\n",
              "\n",
              "    .dataframe thead th {\n",
              "        text-align: right;\n",
              "    }\n",
              "</style>\n",
              "<table border=\"1\" class=\"dataframe\">\n",
              "  <thead>\n",
              "    <tr style=\"text-align: right;\">\n",
              "      <th></th>\n",
              "      <th>Serial Number</th>\n",
              "      <th>Form Name</th>\n",
              "      <th>GPS Latitude</th>\n",
              "      <th>GPS Longitude</th>\n",
              "      <th>Please select your Service Provider</th>\n",
              "      <th>In what region is the outlet?</th>\n",
              "      <th>What is the street address?</th>\n",
              "    </tr>\n",
              "  </thead>\n",
              "  <tbody>\n",
              "    <tr>\n",
              "      <th>0</th>\n",
              "      <td>1</td>\n",
              "      <td>PENSION PROVIDERS</td>\n",
              "      <td>-0.42204</td>\n",
              "      <td>36.95041</td>\n",
              "      <td>Pension Provider</td>\n",
              "      <td>Nyeri town</td>\n",
              "      <td>Kimathi Way</td>\n",
              "    </tr>\n",
              "    <tr>\n",
              "      <th>1</th>\n",
              "      <td>2</td>\n",
              "      <td>MOBILE MONEY SERVICE PROVIDER</td>\n",
              "      <td>0.05891</td>\n",
              "      <td>37.64377</td>\n",
              "      <td>Mobile Money Service Provider</td>\n",
              "      <td>Meru town</td>\n",
              "      <td>Makutano</td>\n",
              "    </tr>\n",
              "    <tr>\n",
              "      <th>2</th>\n",
              "      <td>3</td>\n",
              "      <td>MOBILE MONEY SERVICE PROVIDER</td>\n",
              "      <td>-4.06168</td>\n",
              "      <td>39.66910</td>\n",
              "      <td>Mobile Money Service Provider</td>\n",
              "      <td>Mombasa town</td>\n",
              "      <td>Port Way</td>\n",
              "    </tr>\n",
              "    <tr>\n",
              "      <th>3</th>\n",
              "      <td>4</td>\n",
              "      <td>MOBILE MONEY SERVICE PROVIDER</td>\n",
              "      <td>-1.21601</td>\n",
              "      <td>36.90345</td>\n",
              "      <td>Mobile Money Service Provider</td>\n",
              "      <td>Nairobi towns</td>\n",
              "      <td>Kasarani</td>\n",
              "    </tr>\n",
              "    <tr>\n",
              "      <th>4</th>\n",
              "      <td>5</td>\n",
              "      <td>INSURANCE SERVICE PROVIDER</td>\n",
              "      <td>-1.29497</td>\n",
              "      <td>36.79969</td>\n",
              "      <td>Insurance Service Provider</td>\n",
              "      <td>Nairobi towns</td>\n",
              "      <td>Argwings Kodhek</td>\n",
              "    </tr>\n",
              "  </tbody>\n",
              "</table>\n",
              "</div>\n",
              "      <button class=\"colab-df-convert\" onclick=\"convertToInteractive('df-d8747344-f93c-4251-9ea7-df1af3d92e9f')\"\n",
              "              title=\"Convert this dataframe to an interactive table.\"\n",
              "              style=\"display:none;\">\n",
              "        \n",
              "  <svg xmlns=\"http://www.w3.org/2000/svg\" height=\"24px\"viewBox=\"0 0 24 24\"\n",
              "       width=\"24px\">\n",
              "    <path d=\"M0 0h24v24H0V0z\" fill=\"none\"/>\n",
              "    <path d=\"M18.56 5.44l.94 2.06.94-2.06 2.06-.94-2.06-.94-.94-2.06-.94 2.06-2.06.94zm-11 1L8.5 8.5l.94-2.06 2.06-.94-2.06-.94L8.5 2.5l-.94 2.06-2.06.94zm10 10l.94 2.06.94-2.06 2.06-.94-2.06-.94-.94-2.06-.94 2.06-2.06.94z\"/><path d=\"M17.41 7.96l-1.37-1.37c-.4-.4-.92-.59-1.43-.59-.52 0-1.04.2-1.43.59L10.3 9.45l-7.72 7.72c-.78.78-.78 2.05 0 2.83L4 21.41c.39.39.9.59 1.41.59.51 0 1.02-.2 1.41-.59l7.78-7.78 2.81-2.81c.8-.78.8-2.07 0-2.86zM5.41 20L4 18.59l7.72-7.72 1.47 1.35L5.41 20z\"/>\n",
              "  </svg>\n",
              "      </button>\n",
              "      \n",
              "  <style>\n",
              "    .colab-df-container {\n",
              "      display:flex;\n",
              "      flex-wrap:wrap;\n",
              "      gap: 12px;\n",
              "    }\n",
              "\n",
              "    .colab-df-convert {\n",
              "      background-color: #E8F0FE;\n",
              "      border: none;\n",
              "      border-radius: 50%;\n",
              "      cursor: pointer;\n",
              "      display: none;\n",
              "      fill: #1967D2;\n",
              "      height: 32px;\n",
              "      padding: 0 0 0 0;\n",
              "      width: 32px;\n",
              "    }\n",
              "\n",
              "    .colab-df-convert:hover {\n",
              "      background-color: #E2EBFA;\n",
              "      box-shadow: 0px 1px 2px rgba(60, 64, 67, 0.3), 0px 1px 3px 1px rgba(60, 64, 67, 0.15);\n",
              "      fill: #174EA6;\n",
              "    }\n",
              "\n",
              "    [theme=dark] .colab-df-convert {\n",
              "      background-color: #3B4455;\n",
              "      fill: #D2E3FC;\n",
              "    }\n",
              "\n",
              "    [theme=dark] .colab-df-convert:hover {\n",
              "      background-color: #434B5C;\n",
              "      box-shadow: 0px 1px 3px 1px rgba(0, 0, 0, 0.15);\n",
              "      filter: drop-shadow(0px 1px 2px rgba(0, 0, 0, 0.3));\n",
              "      fill: #FFFFFF;\n",
              "    }\n",
              "  </style>\n",
              "\n",
              "      <script>\n",
              "        const buttonEl =\n",
              "          document.querySelector('#df-d8747344-f93c-4251-9ea7-df1af3d92e9f button.colab-df-convert');\n",
              "        buttonEl.style.display =\n",
              "          google.colab.kernel.accessAllowed ? 'block' : 'none';\n",
              "\n",
              "        async function convertToInteractive(key) {\n",
              "          const element = document.querySelector('#df-d8747344-f93c-4251-9ea7-df1af3d92e9f');\n",
              "          const dataTable =\n",
              "            await google.colab.kernel.invokeFunction('convertToInteractive',\n",
              "                                                     [key], {});\n",
              "          if (!dataTable) return;\n",
              "\n",
              "          const docLinkHtml = 'Like what you see? Visit the ' +\n",
              "            '<a target=\"_blank\" href=https://colab.research.google.com/notebooks/data_table.ipynb>data table notebook</a>'\n",
              "            + ' to learn more about interactive tables.';\n",
              "          element.innerHTML = '';\n",
              "          dataTable['output_type'] = 'display_data';\n",
              "          await google.colab.output.renderOutput(dataTable, element);\n",
              "          const docLink = document.createElement('div');\n",
              "          docLink.innerHTML = docLinkHtml;\n",
              "          element.appendChild(docLink);\n",
              "        }\n",
              "      </script>\n",
              "    </div>\n",
              "  </div>\n",
              "  "
            ]
          },
          "metadata": {},
          "execution_count": 25
        }
      ],
      "source": [
        "#Importing the dataset\n",
        "df = pd.read_csv(\"/content/FSP Maps Kenya 2013 GPS data.csv\")\n",
        "df.head()"
      ]
    },
    {
      "cell_type": "code",
      "source": [
        "#Checking the info of the dataset\n",
        "df.info()"
      ],
      "metadata": {
        "id": "biTu9OHwtwAP",
        "colab": {
          "base_uri": "https://localhost:8080/"
        },
        "outputId": "9237d9ed-5dfc-4bff-9049-44a840f14a59"
      },
      "execution_count": null,
      "outputs": [
        {
          "output_type": "stream",
          "name": "stdout",
          "text": [
            "<class 'pandas.core.frame.DataFrame'>\n",
            "RangeIndex: 60692 entries, 0 to 60691\n",
            "Data columns (total 7 columns):\n",
            " #   Column                               Non-Null Count  Dtype  \n",
            "---  ------                               --------------  -----  \n",
            " 0   Serial Number                        60692 non-null  int64  \n",
            " 1   Form Name                            60692 non-null  object \n",
            " 2   GPS Latitude                         60692 non-null  float64\n",
            " 3   GPS Longitude                        60692 non-null  float64\n",
            " 4   Please select your Service Provider  60692 non-null  object \n",
            " 5   In what region is the outlet?        60692 non-null  object \n",
            " 6   What is the street address?          60692 non-null  object \n",
            "dtypes: float64(2), int64(1), object(4)\n",
            "memory usage: 3.2+ MB\n"
          ]
        }
      ]
    },
    {
      "cell_type": "code",
      "source": [
        "#Checking for missing values\n",
        "df.isnull().sum()"
      ],
      "metadata": {
        "colab": {
          "base_uri": "https://localhost:8080/"
        },
        "id": "bTUeMOuBzptS",
        "outputId": "2f107d01-981f-4ec4-c5b5-0e26728ec688"
      },
      "execution_count": null,
      "outputs": [
        {
          "output_type": "execute_result",
          "data": {
            "text/plain": [
              "Serial Number                          0\n",
              "Form Name                              0\n",
              "GPS Latitude                           0\n",
              "GPS Longitude                          0\n",
              "Please select your Service Provider    0\n",
              "In what region is the outlet?          1\n",
              "What is the street address?            1\n",
              "dtype: int64"
            ]
          },
          "metadata": {},
          "execution_count": 14
        }
      ]
    },
    {
      "cell_type": "code",
      "source": [
        "#Since the number of missing values are 2 which is insignificant , we drop them\n",
        "df.dropna(inplace=True)\n",
        "#Confirming that they have been dropped\n",
        "df.isnull().sum()"
      ],
      "metadata": {
        "colab": {
          "base_uri": "https://localhost:8080/"
        },
        "id": "A7_AaBk1zzaB",
        "outputId": "6d002cee-8d04-430c-9905-0a97eceafc88"
      },
      "execution_count": null,
      "outputs": [
        {
          "output_type": "execute_result",
          "data": {
            "text/plain": [
              "Serial Number                          0\n",
              "Form Name                              0\n",
              "GPS Latitude                           0\n",
              "GPS Longitude                          0\n",
              "Please select your Service Provider    0\n",
              "In what region is the outlet?          0\n",
              "What is the street address?            0\n",
              "dtype: int64"
            ]
          },
          "metadata": {},
          "execution_count": 27
        }
      ]
    },
    {
      "cell_type": "code",
      "source": [
        "#Dropping the column Serial Number and Form Name\n",
        "df.drop([\"Serial Number\", \"Form Name\"],axis=1, inplace=True)"
      ],
      "metadata": {
        "id": "X2SdNBjO0_m6"
      },
      "execution_count": null,
      "outputs": []
    },
    {
      "cell_type": "code",
      "source": [
        "#Renaming the column names\n",
        "df.rename(columns={\"GPS Latitude\":\"Latitude\",\n",
        "                  \"GPS Longitude\":\"Longitude\",\n",
        "                  \"Please select your Service Provider\":\"FSP_Type\",\n",
        "                  \"In what region is the outlet?\":\"Region\",\n",
        "                  \"What is the street address?\":\"Address\"},inplace=True)"
      ],
      "metadata": {
        "id": "U66crDj33kx-"
      },
      "execution_count": null,
      "outputs": []
    },
    {
      "cell_type": "code",
      "source": [
        "df.head()"
      ],
      "metadata": {
        "colab": {
          "base_uri": "https://localhost:8080/",
          "height": 206
        },
        "id": "ZqBj_7Je1a0D",
        "outputId": "554fb83c-4d50-4e28-f082-400e914a35c7"
      },
      "execution_count": null,
      "outputs": [
        {
          "output_type": "execute_result",
          "data": {
            "text/plain": [
              "   Latitude  Longitude                       FSP_Type         Region  \\\n",
              "0  -0.42204   36.95041               Pension Provider     Nyeri town   \n",
              "1   0.05891   37.64377  Mobile Money Service Provider      Meru town   \n",
              "2  -4.06168   39.66910  Mobile Money Service Provider   Mombasa town   \n",
              "3  -1.21601   36.90345  Mobile Money Service Provider  Nairobi towns   \n",
              "4  -1.29497   36.79969     Insurance Service Provider  Nairobi towns   \n",
              "\n",
              "           Address  \n",
              "0      Kimathi Way  \n",
              "1         Makutano  \n",
              "2         Port Way  \n",
              "3         Kasarani  \n",
              "4  Argwings Kodhek  "
            ],
            "text/html": [
              "\n",
              "  <div id=\"df-d8321925-77bc-4538-90df-e34a5789adc0\">\n",
              "    <div class=\"colab-df-container\">\n",
              "      <div>\n",
              "<style scoped>\n",
              "    .dataframe tbody tr th:only-of-type {\n",
              "        vertical-align: middle;\n",
              "    }\n",
              "\n",
              "    .dataframe tbody tr th {\n",
              "        vertical-align: top;\n",
              "    }\n",
              "\n",
              "    .dataframe thead th {\n",
              "        text-align: right;\n",
              "    }\n",
              "</style>\n",
              "<table border=\"1\" class=\"dataframe\">\n",
              "  <thead>\n",
              "    <tr style=\"text-align: right;\">\n",
              "      <th></th>\n",
              "      <th>Latitude</th>\n",
              "      <th>Longitude</th>\n",
              "      <th>FSP_Type</th>\n",
              "      <th>Region</th>\n",
              "      <th>Address</th>\n",
              "    </tr>\n",
              "  </thead>\n",
              "  <tbody>\n",
              "    <tr>\n",
              "      <th>0</th>\n",
              "      <td>-0.42204</td>\n",
              "      <td>36.95041</td>\n",
              "      <td>Pension Provider</td>\n",
              "      <td>Nyeri town</td>\n",
              "      <td>Kimathi Way</td>\n",
              "    </tr>\n",
              "    <tr>\n",
              "      <th>1</th>\n",
              "      <td>0.05891</td>\n",
              "      <td>37.64377</td>\n",
              "      <td>Mobile Money Service Provider</td>\n",
              "      <td>Meru town</td>\n",
              "      <td>Makutano</td>\n",
              "    </tr>\n",
              "    <tr>\n",
              "      <th>2</th>\n",
              "      <td>-4.06168</td>\n",
              "      <td>39.66910</td>\n",
              "      <td>Mobile Money Service Provider</td>\n",
              "      <td>Mombasa town</td>\n",
              "      <td>Port Way</td>\n",
              "    </tr>\n",
              "    <tr>\n",
              "      <th>3</th>\n",
              "      <td>-1.21601</td>\n",
              "      <td>36.90345</td>\n",
              "      <td>Mobile Money Service Provider</td>\n",
              "      <td>Nairobi towns</td>\n",
              "      <td>Kasarani</td>\n",
              "    </tr>\n",
              "    <tr>\n",
              "      <th>4</th>\n",
              "      <td>-1.29497</td>\n",
              "      <td>36.79969</td>\n",
              "      <td>Insurance Service Provider</td>\n",
              "      <td>Nairobi towns</td>\n",
              "      <td>Argwings Kodhek</td>\n",
              "    </tr>\n",
              "  </tbody>\n",
              "</table>\n",
              "</div>\n",
              "      <button class=\"colab-df-convert\" onclick=\"convertToInteractive('df-d8321925-77bc-4538-90df-e34a5789adc0')\"\n",
              "              title=\"Convert this dataframe to an interactive table.\"\n",
              "              style=\"display:none;\">\n",
              "        \n",
              "  <svg xmlns=\"http://www.w3.org/2000/svg\" height=\"24px\"viewBox=\"0 0 24 24\"\n",
              "       width=\"24px\">\n",
              "    <path d=\"M0 0h24v24H0V0z\" fill=\"none\"/>\n",
              "    <path d=\"M18.56 5.44l.94 2.06.94-2.06 2.06-.94-2.06-.94-.94-2.06-.94 2.06-2.06.94zm-11 1L8.5 8.5l.94-2.06 2.06-.94-2.06-.94L8.5 2.5l-.94 2.06-2.06.94zm10 10l.94 2.06.94-2.06 2.06-.94-2.06-.94-.94-2.06-.94 2.06-2.06.94z\"/><path d=\"M17.41 7.96l-1.37-1.37c-.4-.4-.92-.59-1.43-.59-.52 0-1.04.2-1.43.59L10.3 9.45l-7.72 7.72c-.78.78-.78 2.05 0 2.83L4 21.41c.39.39.9.59 1.41.59.51 0 1.02-.2 1.41-.59l7.78-7.78 2.81-2.81c.8-.78.8-2.07 0-2.86zM5.41 20L4 18.59l7.72-7.72 1.47 1.35L5.41 20z\"/>\n",
              "  </svg>\n",
              "      </button>\n",
              "      \n",
              "  <style>\n",
              "    .colab-df-container {\n",
              "      display:flex;\n",
              "      flex-wrap:wrap;\n",
              "      gap: 12px;\n",
              "    }\n",
              "\n",
              "    .colab-df-convert {\n",
              "      background-color: #E8F0FE;\n",
              "      border: none;\n",
              "      border-radius: 50%;\n",
              "      cursor: pointer;\n",
              "      display: none;\n",
              "      fill: #1967D2;\n",
              "      height: 32px;\n",
              "      padding: 0 0 0 0;\n",
              "      width: 32px;\n",
              "    }\n",
              "\n",
              "    .colab-df-convert:hover {\n",
              "      background-color: #E2EBFA;\n",
              "      box-shadow: 0px 1px 2px rgba(60, 64, 67, 0.3), 0px 1px 3px 1px rgba(60, 64, 67, 0.15);\n",
              "      fill: #174EA6;\n",
              "    }\n",
              "\n",
              "    [theme=dark] .colab-df-convert {\n",
              "      background-color: #3B4455;\n",
              "      fill: #D2E3FC;\n",
              "    }\n",
              "\n",
              "    [theme=dark] .colab-df-convert:hover {\n",
              "      background-color: #434B5C;\n",
              "      box-shadow: 0px 1px 3px 1px rgba(0, 0, 0, 0.15);\n",
              "      filter: drop-shadow(0px 1px 2px rgba(0, 0, 0, 0.3));\n",
              "      fill: #FFFFFF;\n",
              "    }\n",
              "  </style>\n",
              "\n",
              "      <script>\n",
              "        const buttonEl =\n",
              "          document.querySelector('#df-d8321925-77bc-4538-90df-e34a5789adc0 button.colab-df-convert');\n",
              "        buttonEl.style.display =\n",
              "          google.colab.kernel.accessAllowed ? 'block' : 'none';\n",
              "\n",
              "        async function convertToInteractive(key) {\n",
              "          const element = document.querySelector('#df-d8321925-77bc-4538-90df-e34a5789adc0');\n",
              "          const dataTable =\n",
              "            await google.colab.kernel.invokeFunction('convertToInteractive',\n",
              "                                                     [key], {});\n",
              "          if (!dataTable) return;\n",
              "\n",
              "          const docLinkHtml = 'Like what you see? Visit the ' +\n",
              "            '<a target=\"_blank\" href=https://colab.research.google.com/notebooks/data_table.ipynb>data table notebook</a>'\n",
              "            + ' to learn more about interactive tables.';\n",
              "          element.innerHTML = '';\n",
              "          dataTable['output_type'] = 'display_data';\n",
              "          await google.colab.output.renderOutput(dataTable, element);\n",
              "          const docLink = document.createElement('div');\n",
              "          docLink.innerHTML = docLinkHtml;\n",
              "          element.appendChild(docLink);\n",
              "        }\n",
              "      </script>\n",
              "    </div>\n",
              "  </div>\n",
              "  "
            ]
          },
          "metadata": {},
          "execution_count": 30
        }
      ]
    },
    {
      "cell_type": "markdown",
      "source": [
        "# Setting the Coordinate Reference System (CRS)"
      ],
      "metadata": {
        "id": "BbeS2oh6-Kxx"
      }
    },
    {
      "cell_type": "code",
      "source": [
        "# Load the GeoDataFrame containing counties in kenya\n",
        "counties = gpd.read_file(\"/content/County.shp\")\n",
        "print(counties.crs)"
      ],
      "metadata": {
        "colab": {
          "base_uri": "https://localhost:8080/"
        },
        "id": "bLv9Z8KX-QHr",
        "outputId": "2e76fa5e-4b98-4bc5-99dd-4593a8d8d6d7"
      },
      "execution_count": null,
      "outputs": [
        {
          "output_type": "stream",
          "name": "stdout",
          "text": [
            "epsg:4326\n"
          ]
        }
      ]
    },
    {
      "cell_type": "markdown",
      "source": [
        "## Mapping of the FSP kenya"
      ],
      "metadata": {
        "id": "qnqyKDL7BjuS"
      }
    },
    {
      "cell_type": "code",
      "source": [
        "#Convert the DataFrame  to Geodataframe\n",
        "df_Geo = gpd.GeoDataFrame(df, geometry=gpd.points_from_xy(df.Longitude, df.Latitude))\n",
        "\n",
        "# Set the coordinate reference system (CRS) to EPSG 4326\n",
        "df_Geo.crs = {'init': 'epsg:4326'}\n",
        "\n",
        "## View the first five rows of the GeoDataFrame\n",
        "df_Geo.head()"
      ],
      "metadata": {
        "colab": {
          "base_uri": "https://localhost:8080/",
          "height": 261
        },
        "id": "MDeZDNoLBvem",
        "outputId": "a9bb6da2-2e57-4171-be6b-ee8456a73681"
      },
      "execution_count": null,
      "outputs": [
        {
          "output_type": "stream",
          "name": "stderr",
          "text": [
            "/usr/local/lib/python3.7/dist-packages/pyproj/crs/crs.py:131: FutureWarning: '+init=<authority>:<code>' syntax is deprecated. '<authority>:<code>' is the preferred initialization method. When making the change, be mindful of axis order changes: https://pyproj4.github.io/pyproj/stable/gotchas.html#axis-order-changes-in-proj-6\n",
            "  in_crs_string = _prepare_from_proj_string(in_crs_string)\n"
          ]
        },
        {
          "output_type": "execute_result",
          "data": {
            "text/plain": [
              "   Latitude  Longitude                       FSP_Type         Region  \\\n",
              "0  -0.42204   36.95041               Pension Provider     Nyeri town   \n",
              "1   0.05891   37.64377  Mobile Money Service Provider      Meru town   \n",
              "2  -4.06168   39.66910  Mobile Money Service Provider   Mombasa town   \n",
              "3  -1.21601   36.90345  Mobile Money Service Provider  Nairobi towns   \n",
              "4  -1.29497   36.79969     Insurance Service Provider  Nairobi towns   \n",
              "\n",
              "           Address                   geometry  \n",
              "0      Kimathi Way  POINT (36.95041 -0.42204)  \n",
              "1         Makutano   POINT (37.64377 0.05891)  \n",
              "2         Port Way  POINT (39.66910 -4.06168)  \n",
              "3         Kasarani  POINT (36.90345 -1.21601)  \n",
              "4  Argwings Kodhek  POINT (36.79969 -1.29497)  "
            ],
            "text/html": [
              "\n",
              "  <div id=\"df-53b5f1c7-0c5e-4a90-ba92-8f3230f4d0ce\">\n",
              "    <div class=\"colab-df-container\">\n",
              "      <div>\n",
              "<style scoped>\n",
              "    .dataframe tbody tr th:only-of-type {\n",
              "        vertical-align: middle;\n",
              "    }\n",
              "\n",
              "    .dataframe tbody tr th {\n",
              "        vertical-align: top;\n",
              "    }\n",
              "\n",
              "    .dataframe thead th {\n",
              "        text-align: right;\n",
              "    }\n",
              "</style>\n",
              "<table border=\"1\" class=\"dataframe\">\n",
              "  <thead>\n",
              "    <tr style=\"text-align: right;\">\n",
              "      <th></th>\n",
              "      <th>Latitude</th>\n",
              "      <th>Longitude</th>\n",
              "      <th>FSP_Type</th>\n",
              "      <th>Region</th>\n",
              "      <th>Address</th>\n",
              "      <th>geometry</th>\n",
              "    </tr>\n",
              "  </thead>\n",
              "  <tbody>\n",
              "    <tr>\n",
              "      <th>0</th>\n",
              "      <td>-0.42204</td>\n",
              "      <td>36.95041</td>\n",
              "      <td>Pension Provider</td>\n",
              "      <td>Nyeri town</td>\n",
              "      <td>Kimathi Way</td>\n",
              "      <td>POINT (36.95041 -0.42204)</td>\n",
              "    </tr>\n",
              "    <tr>\n",
              "      <th>1</th>\n",
              "      <td>0.05891</td>\n",
              "      <td>37.64377</td>\n",
              "      <td>Mobile Money Service Provider</td>\n",
              "      <td>Meru town</td>\n",
              "      <td>Makutano</td>\n",
              "      <td>POINT (37.64377 0.05891)</td>\n",
              "    </tr>\n",
              "    <tr>\n",
              "      <th>2</th>\n",
              "      <td>-4.06168</td>\n",
              "      <td>39.66910</td>\n",
              "      <td>Mobile Money Service Provider</td>\n",
              "      <td>Mombasa town</td>\n",
              "      <td>Port Way</td>\n",
              "      <td>POINT (39.66910 -4.06168)</td>\n",
              "    </tr>\n",
              "    <tr>\n",
              "      <th>3</th>\n",
              "      <td>-1.21601</td>\n",
              "      <td>36.90345</td>\n",
              "      <td>Mobile Money Service Provider</td>\n",
              "      <td>Nairobi towns</td>\n",
              "      <td>Kasarani</td>\n",
              "      <td>POINT (36.90345 -1.21601)</td>\n",
              "    </tr>\n",
              "    <tr>\n",
              "      <th>4</th>\n",
              "      <td>-1.29497</td>\n",
              "      <td>36.79969</td>\n",
              "      <td>Insurance Service Provider</td>\n",
              "      <td>Nairobi towns</td>\n",
              "      <td>Argwings Kodhek</td>\n",
              "      <td>POINT (36.79969 -1.29497)</td>\n",
              "    </tr>\n",
              "  </tbody>\n",
              "</table>\n",
              "</div>\n",
              "      <button class=\"colab-df-convert\" onclick=\"convertToInteractive('df-53b5f1c7-0c5e-4a90-ba92-8f3230f4d0ce')\"\n",
              "              title=\"Convert this dataframe to an interactive table.\"\n",
              "              style=\"display:none;\">\n",
              "        \n",
              "  <svg xmlns=\"http://www.w3.org/2000/svg\" height=\"24px\"viewBox=\"0 0 24 24\"\n",
              "       width=\"24px\">\n",
              "    <path d=\"M0 0h24v24H0V0z\" fill=\"none\"/>\n",
              "    <path d=\"M18.56 5.44l.94 2.06.94-2.06 2.06-.94-2.06-.94-.94-2.06-.94 2.06-2.06.94zm-11 1L8.5 8.5l.94-2.06 2.06-.94-2.06-.94L8.5 2.5l-.94 2.06-2.06.94zm10 10l.94 2.06.94-2.06 2.06-.94-2.06-.94-.94-2.06-.94 2.06-2.06.94z\"/><path d=\"M17.41 7.96l-1.37-1.37c-.4-.4-.92-.59-1.43-.59-.52 0-1.04.2-1.43.59L10.3 9.45l-7.72 7.72c-.78.78-.78 2.05 0 2.83L4 21.41c.39.39.9.59 1.41.59.51 0 1.02-.2 1.41-.59l7.78-7.78 2.81-2.81c.8-.78.8-2.07 0-2.86zM5.41 20L4 18.59l7.72-7.72 1.47 1.35L5.41 20z\"/>\n",
              "  </svg>\n",
              "      </button>\n",
              "      \n",
              "  <style>\n",
              "    .colab-df-container {\n",
              "      display:flex;\n",
              "      flex-wrap:wrap;\n",
              "      gap: 12px;\n",
              "    }\n",
              "\n",
              "    .colab-df-convert {\n",
              "      background-color: #E8F0FE;\n",
              "      border: none;\n",
              "      border-radius: 50%;\n",
              "      cursor: pointer;\n",
              "      display: none;\n",
              "      fill: #1967D2;\n",
              "      height: 32px;\n",
              "      padding: 0 0 0 0;\n",
              "      width: 32px;\n",
              "    }\n",
              "\n",
              "    .colab-df-convert:hover {\n",
              "      background-color: #E2EBFA;\n",
              "      box-shadow: 0px 1px 2px rgba(60, 64, 67, 0.3), 0px 1px 3px 1px rgba(60, 64, 67, 0.15);\n",
              "      fill: #174EA6;\n",
              "    }\n",
              "\n",
              "    [theme=dark] .colab-df-convert {\n",
              "      background-color: #3B4455;\n",
              "      fill: #D2E3FC;\n",
              "    }\n",
              "\n",
              "    [theme=dark] .colab-df-convert:hover {\n",
              "      background-color: #434B5C;\n",
              "      box-shadow: 0px 1px 3px 1px rgba(0, 0, 0, 0.15);\n",
              "      filter: drop-shadow(0px 1px 2px rgba(0, 0, 0, 0.3));\n",
              "      fill: #FFFFFF;\n",
              "    }\n",
              "  </style>\n",
              "\n",
              "      <script>\n",
              "        const buttonEl =\n",
              "          document.querySelector('#df-53b5f1c7-0c5e-4a90-ba92-8f3230f4d0ce button.colab-df-convert');\n",
              "        buttonEl.style.display =\n",
              "          google.colab.kernel.accessAllowed ? 'block' : 'none';\n",
              "\n",
              "        async function convertToInteractive(key) {\n",
              "          const element = document.querySelector('#df-53b5f1c7-0c5e-4a90-ba92-8f3230f4d0ce');\n",
              "          const dataTable =\n",
              "            await google.colab.kernel.invokeFunction('convertToInteractive',\n",
              "                                                     [key], {});\n",
              "          if (!dataTable) return;\n",
              "\n",
              "          const docLinkHtml = 'Like what you see? Visit the ' +\n",
              "            '<a target=\"_blank\" href=https://colab.research.google.com/notebooks/data_table.ipynb>data table notebook</a>'\n",
              "            + ' to learn more about interactive tables.';\n",
              "          element.innerHTML = '';\n",
              "          dataTable['output_type'] = 'display_data';\n",
              "          await google.colab.output.renderOutput(dataTable, element);\n",
              "          const docLink = document.createElement('div');\n",
              "          docLink.innerHTML = docLinkHtml;\n",
              "          element.appendChild(docLink);\n",
              "        }\n",
              "      </script>\n",
              "    </div>\n",
              "  </div>\n",
              "  "
            ]
          },
          "metadata": {},
          "execution_count": 42
        }
      ]
    },
    {
      "cell_type": "code",
      "source": [
        "# Create a map\n",
        "#to_crs() method modifies only the \"geometry\" column:\n",
        "ax = counties.plot(figsize=(12,11), color='whitesmoke', linestyle=':', edgecolor='black')\n",
        "df_Geo.to_crs(epsg=4326).plot(markersize=1, ax=ax)\n",
        "plt.title(\"Financial Service Providers Distribution in Kenya\")"
      ],
      "metadata": {
        "colab": {
          "base_uri": "https://localhost:8080/",
          "height": 679
        },
        "id": "JgPrXprDGTJf",
        "outputId": "d0824ef3-33c7-426b-c6f4-68bb62ff21ac"
      },
      "execution_count": null,
      "outputs": [
        {
          "output_type": "execute_result",
          "data": {
            "text/plain": [
              "Text(0.5, 1.0, 'Financial Service Providers Distribution in Kenya')"
            ]
          },
          "metadata": {},
          "execution_count": 59
        },
        {
          "output_type": "display_data",
          "data": {
            "text/plain": [
              "<Figure size 864x792 with 1 Axes>"
            ],
            "image/png": "[encoded data removed]"
          },
          "metadata": {
            "needs_background": "light"
          }
        }
      ]
    },
    {
      "cell_type": "markdown",
      "source": [
        "# Analysis for Garissa Town"
      ],
      "metadata": {
        "id": "Jj2CKhpb1g0l"
      }
    },
    {
      "cell_type": "code",
      "source": [
        "#Garisa Town Outlets\n",
        "df_Garisa = df[df['Region']=='Garisa town']\n",
        "df_Garisa.head()"
      ],
      "metadata": {
        "colab": {
          "base_uri": "https://localhost:8080/",
          "height": 206
        },
        "id": "RSgTRU5j1fIm",
        "outputId": "45c0b230-25f1-46d1-f915-6da55f8ef696"
      },
      "execution_count": null,
      "outputs": [
        {
          "output_type": "execute_result",
          "data": {
            "text/plain": [
              "       Latitude  Longitude                                       FSP_Type  \\\n",
              "21152  -1.69345   40.16992  COMMERCIAL BANKS AND MORTGAGE FINANCE COMPANY   \n",
              "21181  -1.69448   40.17062                                     Bank Agent   \n",
              "21207  -1.69491   40.16995                  Mobile Money Service Provider   \n",
              "21234  -1.69485   40.16984                  Mobile Money Service Provider   \n",
              "21262  -1.69516   40.16878                                     Bank Agent   \n",
              "\n",
              "            Region                Address  \n",
              "21152  Garisa town  Masalani Primary Road  \n",
              "21181  Garisa town                  Ijara  \n",
              "21207  Garisa town         Hulugho Street  \n",
              "21234  Garisa town         Hulugho Street  \n",
              "21262  Garisa town         Hulugho Street  "
            ],
            "text/html": [
              "\n",
              "  <div id=\"df-c841beaa-02a1-4d53-8bb7-6ed8ddb541b2\">\n",
              "    <div class=\"colab-df-container\">\n",
              "      <div>\n",
              "<style scoped>\n",
              "    .dataframe tbody tr th:only-of-type {\n",
              "        vertical-align: middle;\n",
              "    }\n",
              "\n",
              "    .dataframe tbody tr th {\n",
              "        vertical-align: top;\n",
              "    }\n",
              "\n",
              "    .dataframe thead th {\n",
              "        text-align: right;\n",
              "    }\n",
              "</style>\n",
              "<table border=\"1\" class=\"dataframe\">\n",
              "  <thead>\n",
              "    <tr style=\"text-align: right;\">\n",
              "      <th></th>\n",
              "      <th>Latitude</th>\n",
              "      <th>Longitude</th>\n",
              "      <th>FSP_Type</th>\n",
              "      <th>Region</th>\n",
              "      <th>Address</th>\n",
              "    </tr>\n",
              "  </thead>\n",
              "  <tbody>\n",
              "    <tr>\n",
              "      <th>21152</th>\n",
              "      <td>-1.69345</td>\n",
              "      <td>40.16992</td>\n",
              "      <td>COMMERCIAL BANKS AND MORTGAGE FINANCE COMPANY</td>\n",
              "      <td>Garisa town</td>\n",
              "      <td>Masalani Primary Road</td>\n",
              "    </tr>\n",
              "    <tr>\n",
              "      <th>21181</th>\n",
              "      <td>-1.69448</td>\n",
              "      <td>40.17062</td>\n",
              "      <td>Bank Agent</td>\n",
              "      <td>Garisa town</td>\n",
              "      <td>Ijara</td>\n",
              "    </tr>\n",
              "    <tr>\n",
              "      <th>21207</th>\n",
              "      <td>-1.69491</td>\n",
              "      <td>40.16995</td>\n",
              "      <td>Mobile Money Service Provider</td>\n",
              "      <td>Garisa town</td>\n",
              "      <td>Hulugho Street</td>\n",
              "    </tr>\n",
              "    <tr>\n",
              "      <th>21234</th>\n",
              "      <td>-1.69485</td>\n",
              "      <td>40.16984</td>\n",
              "      <td>Mobile Money Service Provider</td>\n",
              "      <td>Garisa town</td>\n",
              "      <td>Hulugho Street</td>\n",
              "    </tr>\n",
              "    <tr>\n",
              "      <th>21262</th>\n",
              "      <td>-1.69516</td>\n",
              "      <td>40.16878</td>\n",
              "      <td>Bank Agent</td>\n",
              "      <td>Garisa town</td>\n",
              "      <td>Hulugho Street</td>\n",
              "    </tr>\n",
              "  </tbody>\n",
              "</table>\n",
              "</div>\n",
              "      <button class=\"colab-df-convert\" onclick=\"convertToInteractive('df-c841beaa-02a1-4d53-8bb7-6ed8ddb541b2')\"\n",
              "              title=\"Convert this dataframe to an interactive table.\"\n",
              "              style=\"display:none;\">\n",
              "        \n",
              "  <svg xmlns=\"http://www.w3.org/2000/svg\" height=\"24px\"viewBox=\"0 0 24 24\"\n",
              "       width=\"24px\">\n",
              "    <path d=\"M0 0h24v24H0V0z\" fill=\"none\"/>\n",
              "    <path d=\"M18.56 5.44l.94 2.06.94-2.06 2.06-.94-2.06-.94-.94-2.06-.94 2.06-2.06.94zm-11 1L8.5 8.5l.94-2.06 2.06-.94-2.06-.94L8.5 2.5l-.94 2.06-2.06.94zm10 10l.94 2.06.94-2.06 2.06-.94-2.06-.94-.94-2.06-.94 2.06-2.06.94z\"/><path d=\"M17.41 7.96l-1.37-1.37c-.4-.4-.92-.59-1.43-.59-.52 0-1.04.2-1.43.59L10.3 9.45l-7.72 7.72c-.78.78-.78 2.05 0 2.83L4 21.41c.39.39.9.59 1.41.59.51 0 1.02-.2 1.41-.59l7.78-7.78 2.81-2.81c.8-.78.8-2.07 0-2.86zM5.41 20L4 18.59l7.72-7.72 1.47 1.35L5.41 20z\"/>\n",
              "  </svg>\n",
              "      </button>\n",
              "      \n",
              "  <style>\n",
              "    .colab-df-container {\n",
              "      display:flex;\n",
              "      flex-wrap:wrap;\n",
              "      gap: 12px;\n",
              "    }\n",
              "\n",
              "    .colab-df-convert {\n",
              "      background-color: #E8F0FE;\n",
              "      border: none;\n",
              "      border-radius: 50%;\n",
              "      cursor: pointer;\n",
              "      display: none;\n",
              "      fill: #1967D2;\n",
              "      height: 32px;\n",
              "      padding: 0 0 0 0;\n",
              "      width: 32px;\n",
              "    }\n",
              "\n",
              "    .colab-df-convert:hover {\n",
              "      background-color: #E2EBFA;\n",
              "      box-shadow: 0px 1px 2px rgba(60, 64, 67, 0.3), 0px 1px 3px 1px rgba(60, 64, 67, 0.15);\n",
              "      fill: #174EA6;\n",
              "    }\n",
              "\n",
              "    [theme=dark] .colab-df-convert {\n",
              "      background-color: #3B4455;\n",
              "      fill: #D2E3FC;\n",
              "    }\n",
              "\n",
              "    [theme=dark] .colab-df-convert:hover {\n",
              "      background-color: #434B5C;\n",
              "      box-shadow: 0px 1px 3px 1px rgba(0, 0, 0, 0.15);\n",
              "      filter: drop-shadow(0px 1px 2px rgba(0, 0, 0, 0.3));\n",
              "      fill: #FFFFFF;\n",
              "    }\n",
              "  </style>\n",
              "\n",
              "      <script>\n",
              "        const buttonEl =\n",
              "          document.querySelector('#df-c841beaa-02a1-4d53-8bb7-6ed8ddb541b2 button.colab-df-convert');\n",
              "        buttonEl.style.display =\n",
              "          google.colab.kernel.accessAllowed ? 'block' : 'none';\n",
              "\n",
              "        async function convertToInteractive(key) {\n",
              "          const element = document.querySelector('#df-c841beaa-02a1-4d53-8bb7-6ed8ddb541b2');\n",
              "          const dataTable =\n",
              "            await google.colab.kernel.invokeFunction('convertToInteractive',\n",
              "                                                     [key], {});\n",
              "          if (!dataTable) return;\n",
              "\n",
              "          const docLinkHtml = 'Like what you see? Visit the ' +\n",
              "            '<a target=\"_blank\" href=https://colab.research.google.com/notebooks/data_table.ipynb>data table notebook</a>'\n",
              "            + ' to learn more about interactive tables.';\n",
              "          element.innerHTML = '';\n",
              "          dataTable['output_type'] = 'display_data';\n",
              "          await google.colab.output.renderOutput(dataTable, element);\n",
              "          const docLink = document.createElement('div');\n",
              "          docLink.innerHTML = docLinkHtml;\n",
              "          element.appendChild(docLink);\n",
              "        }\n",
              "      </script>\n",
              "    </div>\n",
              "  </div>\n",
              "  "
            ]
          },
          "metadata": {},
          "execution_count": 32
        }
      ]
    },
    {
      "cell_type": "code",
      "source": [
        "# Create a map\n",
        "#to_crs() method modifies only the \"geometry\" column:\n",
        "ax = counties.plot(figsize=(8,8), color='whitesmoke', linestyle=':', edgecolor='black')\n",
        "df_Garisa_Geo.to_crs(epsg=4326).plot(markersize=1, ax=ax)"
      ],
      "metadata": {
        "colab": {
          "base_uri": "https://localhost:8080/",
          "height": 500
        },
        "id": "zQJjeD-0MBq5",
        "outputId": "73db7fd2-ad7e-41f1-f1ee-2d803e47c54d"
      },
      "execution_count": null,
      "outputs": [
        {
          "output_type": "execute_result",
          "data": {
            "text/plain": [
              "<matplotlib.axes._subplots.AxesSubplot at 0x7fd660771a50>"
            ]
          },
          "metadata": {},
          "execution_count": 60
        },
        {
          "output_type": "display_data",
          "data": {
            "text/plain": [
              "<Figure size 576x576 with 1 Axes>"
            ],
            "image/png": "[encoded data removed]"
          },
          "metadata": {
            "needs_background": "light"
          }
        }
      ]
    },
    {
      "cell_type": "code",
      "source": [
        "#Convert the DataFrame for Garissa to Geodataframe\n",
        "df_Garisa_Geo = gpd.GeoDataFrame(df_Garisa, geometry=gpd.points_from_xy(df_Garisa.Longitude, df_Garisa.Latitude))\n",
        "\n",
        "# Set the coordinate reference system (CRS) to EPSG 4326\n",
        "df_Garisa_Geo.crs = {'init': 'epsg:4326'}\n",
        "\n",
        "## View the first five rows of the GeoDataFrame\n",
        "df_Garisa_Geo.head()"
      ],
      "metadata": {
        "colab": {
          "base_uri": "https://localhost:8080/",
          "height": 261
        },
        "id": "sJVp9WKbRsLu",
        "outputId": "b7db9a96-8c54-4684-fd84-b62db8c821c4"
      },
      "execution_count": null,
      "outputs": [
        {
          "output_type": "stream",
          "name": "stderr",
          "text": [
            "/usr/local/lib/python3.7/dist-packages/pyproj/crs/crs.py:131: FutureWarning: '+init=<authority>:<code>' syntax is deprecated. '<authority>:<code>' is the preferred initialization method. When making the change, be mindful of axis order changes: https://pyproj4.github.io/pyproj/stable/gotchas.html#axis-order-changes-in-proj-6\n",
            "  in_crs_string = _prepare_from_proj_string(in_crs_string)\n"
          ]
        },
        {
          "output_type": "execute_result",
          "data": {
            "text/plain": [
              "       Latitude  Longitude                                       FSP_Type  \\\n",
              "21152  -1.69345   40.16992  COMMERCIAL BANKS AND MORTGAGE FINANCE COMPANY   \n",
              "21181  -1.69448   40.17062                                     Bank Agent   \n",
              "21207  -1.69491   40.16995                  Mobile Money Service Provider   \n",
              "21234  -1.69485   40.16984                  Mobile Money Service Provider   \n",
              "21262  -1.69516   40.16878                                     Bank Agent   \n",
              "\n",
              "            Region                Address                   geometry  \n",
              "21152  Garisa town  Masalani Primary Road  POINT (40.16992 -1.69345)  \n",
              "21181  Garisa town                  Ijara  POINT (40.17062 -1.69448)  \n",
              "21207  Garisa town         Hulugho Street  POINT (40.16995 -1.69491)  \n",
              "21234  Garisa town         Hulugho Street  POINT (40.16984 -1.69485)  \n",
              "21262  Garisa town         Hulugho Street  POINT (40.16878 -1.69516)  "
            ],
            "text/html": [
              "\n",
              "  <div id=\"df-aa8f4269-193e-4f42-938f-f5cc3cfa08c0\">\n",
              "    <div class=\"colab-df-container\">\n",
              "      <div>\n",
              "<style scoped>\n",
              "    .dataframe tbody tr th:only-of-type {\n",
              "        vertical-align: middle;\n",
              "    }\n",
              "\n",
              "    .dataframe tbody tr th {\n",
              "        vertical-align: top;\n",
              "    }\n",
              "\n",
              "    .dataframe thead th {\n",
              "        text-align: right;\n",
              "    }\n",
              "</style>\n",
              "<table border=\"1\" class=\"dataframe\">\n",
              "  <thead>\n",
              "    <tr style=\"text-align: right;\">\n",
              "      <th></th>\n",
              "      <th>Latitude</th>\n",
              "      <th>Longitude</th>\n",
              "      <th>FSP_Type</th>\n",
              "      <th>Region</th>\n",
              "      <th>Address</th>\n",
              "      <th>geometry</th>\n",
              "    </tr>\n",
              "  </thead>\n",
              "  <tbody>\n",
              "    <tr>\n",
              "      <th>21152</th>\n",
              "      <td>-1.69345</td>\n",
              "      <td>40.16992</td>\n",
              "      <td>COMMERCIAL BANKS AND MORTGAGE FINANCE COMPANY</td>\n",
              "      <td>Garisa town</td>\n",
              "      <td>Masalani Primary Road</td>\n",
              "      <td>POINT (40.16992 -1.69345)</td>\n",
              "    </tr>\n",
              "    <tr>\n",
              "      <th>21181</th>\n",
              "      <td>-1.69448</td>\n",
              "      <td>40.17062</td>\n",
              "      <td>Bank Agent</td>\n",
              "      <td>Garisa town</td>\n",
              "      <td>Ijara</td>\n",
              "      <td>POINT (40.17062 -1.69448)</td>\n",
              "    </tr>\n",
              "    <tr>\n",
              "      <th>21207</th>\n",
              "      <td>-1.69491</td>\n",
              "      <td>40.16995</td>\n",
              "      <td>Mobile Money Service Provider</td>\n",
              "      <td>Garisa town</td>\n",
              "      <td>Hulugho Street</td>\n",
              "      <td>POINT (40.16995 -1.69491)</td>\n",
              "    </tr>\n",
              "    <tr>\n",
              "      <th>21234</th>\n",
              "      <td>-1.69485</td>\n",
              "      <td>40.16984</td>\n",
              "      <td>Mobile Money Service Provider</td>\n",
              "      <td>Garisa town</td>\n",
              "      <td>Hulugho Street</td>\n",
              "      <td>POINT (40.16984 -1.69485)</td>\n",
              "    </tr>\n",
              "    <tr>\n",
              "      <th>21262</th>\n",
              "      <td>-1.69516</td>\n",
              "      <td>40.16878</td>\n",
              "      <td>Bank Agent</td>\n",
              "      <td>Garisa town</td>\n",
              "      <td>Hulugho Street</td>\n",
              "      <td>POINT (40.16878 -1.69516)</td>\n",
              "    </tr>\n",
              "  </tbody>\n",
              "</table>\n",
              "</div>\n",
              "      <button class=\"colab-df-convert\" onclick=\"convertToInteractive('df-aa8f4269-193e-4f42-938f-f5cc3cfa08c0')\"\n",
              "              title=\"Convert this dataframe to an interactive table.\"\n",
              "              style=\"display:none;\">\n",
              "        \n",
              "  <svg xmlns=\"http://www.w3.org/2000/svg\" height=\"24px\"viewBox=\"0 0 24 24\"\n",
              "       width=\"24px\">\n",
              "    <path d=\"M0 0h24v24H0V0z\" fill=\"none\"/>\n",
              "    <path d=\"M18.56 5.44l.94 2.06.94-2.06 2.06-.94-2.06-.94-.94-2.06-.94 2.06-2.06.94zm-11 1L8.5 8.5l.94-2.06 2.06-.94-2.06-.94L8.5 2.5l-.94 2.06-2.06.94zm10 10l.94 2.06.94-2.06 2.06-.94-2.06-.94-.94-2.06-.94 2.06-2.06.94z\"/><path d=\"M17.41 7.96l-1.37-1.37c-.4-.4-.92-.59-1.43-.59-.52 0-1.04.2-1.43.59L10.3 9.45l-7.72 7.72c-.78.78-.78 2.05 0 2.83L4 21.41c.39.39.9.59 1.41.59.51 0 1.02-.2 1.41-.59l7.78-7.78 2.81-2.81c.8-.78.8-2.07 0-2.86zM5.41 20L4 18.59l7.72-7.72 1.47 1.35L5.41 20z\"/>\n",
              "  </svg>\n",
              "      </button>\n",
              "      \n",
              "  <style>\n",
              "    .colab-df-container {\n",
              "      display:flex;\n",
              "      flex-wrap:wrap;\n",
              "      gap: 12px;\n",
              "    }\n",
              "\n",
              "    .colab-df-convert {\n",
              "      background-color: #E8F0FE;\n",
              "      border: none;\n",
              "      border-radius: 50%;\n",
              "      cursor: pointer;\n",
              "      display: none;\n",
              "      fill: #1967D2;\n",
              "      height: 32px;\n",
              "      padding: 0 0 0 0;\n",
              "      width: 32px;\n",
              "    }\n",
              "\n",
              "    .colab-df-convert:hover {\n",
              "      background-color: #E2EBFA;\n",
              "      box-shadow: 0px 1px 2px rgba(60, 64, 67, 0.3), 0px 1px 3px 1px rgba(60, 64, 67, 0.15);\n",
              "      fill: #174EA6;\n",
              "    }\n",
              "\n",
              "    [theme=dark] .colab-df-convert {\n",
              "      background-color: #3B4455;\n",
              "      fill: #D2E3FC;\n",
              "    }\n",
              "\n",
              "    [theme=dark] .colab-df-convert:hover {\n",
              "      background-color: #434B5C;\n",
              "      box-shadow: 0px 1px 3px 1px rgba(0, 0, 0, 0.15);\n",
              "      filter: drop-shadow(0px 1px 2px rgba(0, 0, 0, 0.3));\n",
              "      fill: #FFFFFF;\n",
              "    }\n",
              "  </style>\n",
              "\n",
              "      <script>\n",
              "        const buttonEl =\n",
              "          document.querySelector('#df-aa8f4269-193e-4f42-938f-f5cc3cfa08c0 button.colab-df-convert');\n",
              "        buttonEl.style.display =\n",
              "          google.colab.kernel.accessAllowed ? 'block' : 'none';\n",
              "\n",
              "        async function convertToInteractive(key) {\n",
              "          const element = document.querySelector('#df-aa8f4269-193e-4f42-938f-f5cc3cfa08c0');\n",
              "          const dataTable =\n",
              "            await google.colab.kernel.invokeFunction('convertToInteractive',\n",
              "                                                     [key], {});\n",
              "          if (!dataTable) return;\n",
              "\n",
              "          const docLinkHtml = 'Like what you see? Visit the ' +\n",
              "            '<a target=\"_blank\" href=https://colab.research.google.com/notebooks/data_table.ipynb>data table notebook</a>'\n",
              "            + ' to learn more about interactive tables.';\n",
              "          element.innerHTML = '';\n",
              "          dataTable['output_type'] = 'display_data';\n",
              "          await google.colab.output.renderOutput(dataTable, element);\n",
              "          const docLink = document.createElement('div');\n",
              "          docLink.innerHTML = docLinkHtml;\n",
              "          element.appendChild(docLink);\n",
              "        }\n",
              "      </script>\n",
              "    </div>\n",
              "  </div>\n",
              "  "
            ]
          },
          "metadata": {},
          "execution_count": 70
        }
      ]
    },
    {
      "cell_type": "code",
      "source": [
        "#Taking the Geo location for garissa town\n",
        "counties_Garissa = counties[counties['COUNTY'] == 'Garissa']\n",
        "counties_Garissa"
      ],
      "metadata": {
        "colab": {
          "base_uri": "https://localhost:8080/",
          "height": 81
        },
        "id": "h4Vl9pk8OMmf",
        "outputId": "2ee5855d-f1ab-4cd3-936a-f26cfa612210"
      },
      "execution_count": null,
      "outputs": [
        {
          "output_type": "execute_result",
          "data": {
            "text/plain": [
              "    OBJECTID   AREA  PERIMETER  COUNTY3_  COUNTY3_ID   COUNTY  Shape_Leng  \\\n",
              "11        12  3.642     11.281      13.0        12.0  Garissa   11.281126   \n",
              "\n",
              "    Shape_Area                                           geometry  \n",
              "11    3.641823  POLYGON ((39.29730 0.90783, 39.30076 0.91194, ...  "
            ],
            "text/html": [
              "\n",
              "  <div id=\"df-0f96be58-7b82-4f63-beb7-ff200b67edf1\">\n",
              "    <div class=\"colab-df-container\">\n",
              "      <div>\n",
              "<style scoped>\n",
              "    .dataframe tbody tr th:only-of-type {\n",
              "        vertical-align: middle;\n",
              "    }\n",
              "\n",
              "    .dataframe tbody tr th {\n",
              "        vertical-align: top;\n",
              "    }\n",
              "\n",
              "    .dataframe thead th {\n",
              "        text-align: right;\n",
              "    }\n",
              "</style>\n",
              "<table border=\"1\" class=\"dataframe\">\n",
              "  <thead>\n",
              "    <tr style=\"text-align: right;\">\n",
              "      <th></th>\n",
              "      <th>OBJECTID</th>\n",
              "      <th>AREA</th>\n",
              "      <th>PERIMETER</th>\n",
              "      <th>COUNTY3_</th>\n",
              "      <th>COUNTY3_ID</th>\n",
              "      <th>COUNTY</th>\n",
              "      <th>Shape_Leng</th>\n",
              "      <th>Shape_Area</th>\n",
              "      <th>geometry</th>\n",
              "    </tr>\n",
              "  </thead>\n",
              "  <tbody>\n",
              "    <tr>\n",
              "      <th>11</th>\n",
              "      <td>12</td>\n",
              "      <td>3.642</td>\n",
              "      <td>11.281</td>\n",
              "      <td>13.0</td>\n",
              "      <td>12.0</td>\n",
              "      <td>Garissa</td>\n",
              "      <td>11.281126</td>\n",
              "      <td>3.641823</td>\n",
              "      <td>POLYGON ((39.29730 0.90783, 39.30076 0.91194, ...</td>\n",
              "    </tr>\n",
              "  </tbody>\n",
              "</table>\n",
              "</div>\n",
              "      <button class=\"colab-df-convert\" onclick=\"convertToInteractive('df-0f96be58-7b82-4f63-beb7-ff200b67edf1')\"\n",
              "              title=\"Convert this dataframe to an interactive table.\"\n",
              "              style=\"display:none;\">\n",
              "        \n",
              "  <svg xmlns=\"http://www.w3.org/2000/svg\" height=\"24px\"viewBox=\"0 0 24 24\"\n",
              "       width=\"24px\">\n",
              "    <path d=\"M0 0h24v24H0V0z\" fill=\"none\"/>\n",
              "    <path d=\"M18.56 5.44l.94 2.06.94-2.06 2.06-.94-2.06-.94-.94-2.06-.94 2.06-2.06.94zm-11 1L8.5 8.5l.94-2.06 2.06-.94-2.06-.94L8.5 2.5l-.94 2.06-2.06.94zm10 10l.94 2.06.94-2.06 2.06-.94-2.06-.94-.94-2.06-.94 2.06-2.06.94z\"/><path d=\"M17.41 7.96l-1.37-1.37c-.4-.4-.92-.59-1.43-.59-.52 0-1.04.2-1.43.59L10.3 9.45l-7.72 7.72c-.78.78-.78 2.05 0 2.83L4 21.41c.39.39.9.59 1.41.59.51 0 1.02-.2 1.41-.59l7.78-7.78 2.81-2.81c.8-.78.8-2.07 0-2.86zM5.41 20L4 18.59l7.72-7.72 1.47 1.35L5.41 20z\"/>\n",
              "  </svg>\n",
              "      </button>\n",
              "      \n",
              "  <style>\n",
              "    .colab-df-container {\n",
              "      display:flex;\n",
              "      flex-wrap:wrap;\n",
              "      gap: 12px;\n",
              "    }\n",
              "\n",
              "    .colab-df-convert {\n",
              "      background-color: #E8F0FE;\n",
              "      border: none;\n",
              "      border-radius: 50%;\n",
              "      cursor: pointer;\n",
              "      display: none;\n",
              "      fill: #1967D2;\n",
              "      height: 32px;\n",
              "      padding: 0 0 0 0;\n",
              "      width: 32px;\n",
              "    }\n",
              "\n",
              "    .colab-df-convert:hover {\n",
              "      background-color: #E2EBFA;\n",
              "      box-shadow: 0px 1px 2px rgba(60, 64, 67, 0.3), 0px 1px 3px 1px rgba(60, 64, 67, 0.15);\n",
              "      fill: #174EA6;\n",
              "    }\n",
              "\n",
              "    [theme=dark] .colab-df-convert {\n",
              "      background-color: #3B4455;\n",
              "      fill: #D2E3FC;\n",
              "    }\n",
              "\n",
              "    [theme=dark] .colab-df-convert:hover {\n",
              "      background-color: #434B5C;\n",
              "      box-shadow: 0px 1px 3px 1px rgba(0, 0, 0, 0.15);\n",
              "      filter: drop-shadow(0px 1px 2px rgba(0, 0, 0, 0.3));\n",
              "      fill: #FFFFFF;\n",
              "    }\n",
              "  </style>\n",
              "\n",
              "      <script>\n",
              "        const buttonEl =\n",
              "          document.querySelector('#df-0f96be58-7b82-4f63-beb7-ff200b67edf1 button.colab-df-convert');\n",
              "        buttonEl.style.display =\n",
              "          google.colab.kernel.accessAllowed ? 'block' : 'none';\n",
              "\n",
              "        async function convertToInteractive(key) {\n",
              "          const element = document.querySelector('#df-0f96be58-7b82-4f63-beb7-ff200b67edf1');\n",
              "          const dataTable =\n",
              "            await google.colab.kernel.invokeFunction('convertToInteractive',\n",
              "                                                     [key], {});\n",
              "          if (!dataTable) return;\n",
              "\n",
              "          const docLinkHtml = 'Like what you see? Visit the ' +\n",
              "            '<a target=\"_blank\" href=https://colab.research.google.com/notebooks/data_table.ipynb>data table notebook</a>'\n",
              "            + ' to learn more about interactive tables.';\n",
              "          element.innerHTML = '';\n",
              "          dataTable['output_type'] = 'display_data';\n",
              "          await google.colab.output.renderOutput(dataTable, element);\n",
              "          const docLink = document.createElement('div');\n",
              "          docLink.innerHTML = docLinkHtml;\n",
              "          element.appendChild(docLink);\n",
              "        }\n",
              "      </script>\n",
              "    </div>\n",
              "  </div>\n",
              "  "
            ]
          },
          "metadata": {},
          "execution_count": 67
        }
      ]
    },
    {
      "cell_type": "code",
      "source": [
        "# Create a map\n",
        "#to_crs() method modifies only the \"geometry\" column:\n",
        "ax = counties_Garissa.plot(figsize=(8,8), color='whitesmoke', linestyle=':', edgecolor='black')\n",
        "df_Garisa_Geo.to_crs(epsg=4326).plot(markersize=1, ax=ax)\n",
        "plt.title('FSP distribution in Garissa county')"
      ],
      "metadata": {
        "colab": {
          "base_uri": "https://localhost:8080/",
          "height": 516
        },
        "id": "saTgjyAvOZ22",
        "outputId": "3051e57c-5291-43a5-9c95-ad0c1ce8fd61"
      },
      "execution_count": null,
      "outputs": [
        {
          "output_type": "execute_result",
          "data": {
            "text/plain": [
              "Text(0.5, 1.0, 'FSP distribution in Garissa county')"
            ]
          },
          "metadata": {},
          "execution_count": 69
        },
        {
          "output_type": "display_data",
          "data": {
            "text/plain": [
              "<Figure size 576x576 with 1 Axes>"
            ],
            "image/png": "[encoded data removed]"
          },
          "metadata": {
            "needs_background": "light"
          }
        }
      ]
    },
    {
      "cell_type": "code",
      "source": [
        "#checking distribution of FSP in Gsrisa\n",
        "df_Garisa['FSP_Type'].value_counts().plot(kind=\"barh\")\n",
        "plt.title(\"FSP Providers in Garissa Town\")\n",
        "plt.grid(True)\n",
        "plt.show()"
      ],
      "metadata": {
        "colab": {
          "base_uri": "https://localhost:8080/",
          "height": 281
        },
        "id": "3vx3BPhj48wm",
        "outputId": "1cbbfa43-af4a-4e7c-de2e-22d8baa69327"
      },
      "execution_count": null,
      "outputs": [
        {
          "output_type": "display_data",
          "data": {
            "text/plain": [
              "<Figure size 432x288 with 1 Axes>"
            ],
            "image/png": "[encoded data removed]"
          },
          "metadata": {
            "needs_background": "light"
          }
        }
      ]
    },
    {
      "cell_type": "markdown",
      "source": [
        "It is a clear identification that Mobile Money Service Providers are the majority with SACCO being the least"
      ],
      "metadata": {
        "id": "LIllOzHZ5UvN"
      }
    },
    {
      "cell_type": "code",
      "source": [
        "#Checking the street address with the most fsp\n",
        "df_Garisa['Address'].value_counts().sort_values(ascending=False)"
      ],
      "metadata": {
        "colab": {
          "base_uri": "https://localhost:8080/"
        },
        "id": "hBE30HnC_uLZ",
        "outputId": "bb3b2dbd-26dd-41b8-ecf2-08b5410e5911"
      },
      "execution_count": null,
      "outputs": [
        {
          "output_type": "execute_result",
          "data": {
            "text/plain": [
              "Market                     21\n",
              "Miraa Road                 15\n",
              "Ifo Streets                14\n",
              "Hagadera Road              11\n",
              "Hagadera Street            10\n",
              "                           ..\n",
              "Masalani Primary Road       1\n",
              "Midnimo Streey              1\n",
              "Biashara Road               1\n",
              "Garissa- Masalani Route     1\n",
              "Bura East                   1\n",
              "Name: Address, Length: 72, dtype: int64"
            ]
          },
          "metadata": {},
          "execution_count": 63
        }
      ]
    },
    {
      "cell_type": "markdown",
      "source": [
        "Market and Miraa Road have the highest number of FSP in garisa town"
      ],
      "metadata": {
        "id": "WPfPJ-10NGXN"
      }
    },
    {
      "cell_type": "code",
      "source": [
        ""
      ],
      "metadata": {
        "id": "8u396XABNcGr"
      },
      "execution_count": null,
      "outputs": []
    }
  ]
}